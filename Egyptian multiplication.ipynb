{
 "cells": [
  {
   "cell_type": "markdown",
   "metadata": {},
   "source": [
    "### Egyptian multiplication\n",
    "\n",
    "\n",
    "The Egyptian multiplication, also known as the Russian Peasan multiplication, is based on the associativity of the operation. So for example you have:\n",
    "\n",
    "$20a = a + a + a + a + a + a + a + a + a + a + a + a + a + a + a + a + a + a + a + a$\n",
    "\n",
    "You can group by power of 2 terms, so you can write:\n",
    "\n",
    "$20a = 16a + 4a$\n",
    "\n",
    "By rewriting like this we gain one thing: those power of two terms can be obtained easily by **doubling $a$ repeatedly** (up to to $log _2 20$ times)\n",
    "\n",
    "So, supposing you want to compute $20*51$ we can write on a piece of paper the following table\n",
    "\n",
    "![title](egyptian.png)\n",
    "\n",
    "\n",
    "So, we can multiply two number n, a by doubling the number \"a\" $log _2 n$ times. To write a function _multiply_ with O(log n) you can consider the following:\n",
    "\n",
    "1. $n*a = \\frac{n}{2} * (a + a)$ for n even\n",
    "2. $n*a = a + \\frac{n}{2} * (a + a)$ for n odd\n",
    "3. $1*a = a$\n"
   ]
  },
  {
   "cell_type": "code",
   "execution_count": 8,
   "metadata": {
    "collapsed": false
   },
   "outputs": [
    {
     "data": {
      "text/plain": [
       "1020"
      ]
     },
     "execution_count": 8,
     "metadata": {},
     "output_type": "execute_result"
    }
   ],
   "source": [
    "def half(n): return n >> 1\n",
    "\n",
    "def odd(n): return n & 0x1\n",
    "    \n",
    "def multiply1(n, a):\n",
    "    \n",
    "    \"\"\"Multiply two number with O(logn) operations\"\"\"\n",
    "    \n",
    "    if n == 1: return a\n",
    "    \n",
    "    res = multiply1(half(n), a + a)\n",
    "    \n",
    "    if odd(n): res += a\n",
    "    \n",
    "    return res\n",
    "\n",
    "\n",
    "# test\n",
    "multiply(20, 51)"
   ]
  },
  {
   "cell_type": "markdown",
   "metadata": {},
   "source": [
    "We can do better, as `multiply1` is not tail recursive. So let's use an accumulator to be passed down the call chain so the last call can jump return."
   ]
  },
  {
   "cell_type": "code",
   "execution_count": 10,
   "metadata": {
    "collapsed": false
   },
   "outputs": [
    {
     "data": {
      "text/plain": [
       "1020"
      ]
     },
     "execution_count": 10,
     "metadata": {},
     "output_type": "execute_result"
    }
   ],
   "source": [
    "def mult_acc0(r, n, a):\n",
    "    \n",
    "    \"\"\"Multiply two number with O(logn) operations\"\"\"\n",
    "    \n",
    "    if n == 1: return r + a \n",
    "    \n",
    "    if odd(n):\n",
    "        return mult_acc0(r + a, half(n), a + a)\n",
    "    else:\n",
    "        return mult_acc0(r, half(n), a + a)\n",
    "    \n",
    "mult_acc0(0, 20, 51)"
   ]
  },
  {
   "cell_type": "markdown",
   "metadata": {},
   "source": [
    "Let's improve the function"
   ]
  },
  {
   "cell_type": "code",
   "execution_count": 12,
   "metadata": {
    "collapsed": false
   },
   "outputs": [
    {
     "data": {
      "text/plain": [
       "1020"
      ]
     },
     "execution_count": 12,
     "metadata": {},
     "output_type": "execute_result"
    }
   ],
   "source": [
    "def mult_acc1(r, n, a):\n",
    "    \n",
    "    \"\"\"Multiply two number with O(logn) operations\"\"\"\n",
    "    \n",
    "    if n == 1: return r + a \n",
    "    \n",
    "    if odd(n): r += a\n",
    "        \n",
    "    return mult_acc1(r, half(n), a + a)\n",
    "    \n",
    "mult_acc1(0, 20, 51)"
   ]
  },
  {
   "cell_type": "markdown",
   "metadata": {},
   "source": [
    "But... have I told you python doesnt do tail recursion? But now the code could be easily transformed into a loop. As soon as we edit the function to be **strictly tail-recursive**.\n",
    "\n",
    "Definition: A strictly tail-recursive procedure is one in which all the tail recursive calls are done with the formal parameters being the corresponding arguments"
   ]
  },
  {
   "cell_type": "code",
   "execution_count": 14,
   "metadata": {
    "collapsed": false
   },
   "outputs": [
    {
     "data": {
      "text/plain": [
       "1020"
      ]
     },
     "execution_count": 14,
     "metadata": {},
     "output_type": "execute_result"
    }
   ],
   "source": [
    "def mult_acc3(r, n, a):\n",
    "    \n",
    "    \"\"\"Multiply two number with O(logn) operations\"\"\"\n",
    "    \n",
    "    if n == 1: return r + a \n",
    "    \n",
    "    if odd(n): r += a\n",
    "    \n",
    "    n = half(n)\n",
    "    a += a\n",
    "    \n",
    "    return mult_acc1(r, n, a)\n",
    "    \n",
    "mult_acc1(0, 20, 51)"
   ]
  },
  {
   "cell_type": "markdown",
   "metadata": {},
   "source": [
    "Now it is easy to replace tha tail call with a while(true) loop"
   ]
  },
  {
   "cell_type": "code",
   "execution_count": 16,
   "metadata": {
    "collapsed": false
   },
   "outputs": [
    {
     "data": {
      "text/plain": [
       "1020"
      ]
     },
     "execution_count": 16,
     "metadata": {},
     "output_type": "execute_result"
    }
   ],
   "source": [
    "def mult_acc4(r, n, a):\n",
    "    \n",
    "    \"\"\"Multiply two number with O(logn) operations\"\"\"\n",
    "    \n",
    "    while True:\n",
    "        \n",
    "        if n == 1: return r + a \n",
    "    \n",
    "        if odd(n): r += a\n",
    "    \n",
    "        n = half(n)\n",
    "        a += a\n",
    "    \n",
    "    \n",
    "mult_acc1(0, 20, 51)"
   ]
  },
  {
   "cell_type": "code",
   "execution_count": null,
   "metadata": {
    "collapsed": true
   },
   "outputs": [],
   "source": []
  }
 ],
 "metadata": {
  "kernelspec": {
   "display_name": "Python 3",
   "language": "python",
   "name": "python3"
  },
  "language_info": {
   "codemirror_mode": {
    "name": "ipython",
    "version": 3
   },
   "file_extension": ".py",
   "mimetype": "text/x-python",
   "name": "python",
   "nbconvert_exporter": "python",
   "pygments_lexer": "ipython3",
   "version": "3.5.1"
  }
 },
 "nbformat": 4,
 "nbformat_minor": 0
}
