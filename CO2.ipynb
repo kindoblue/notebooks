{
 "cells": [
  {
   "cell_type": "code",
   "execution_count": 1,
   "metadata": {
    "collapsed": false
   },
   "outputs": [
    {
     "name": "stderr",
     "output_type": "stream",
     "text": [
      "/usr/local/lib/python2.7/site-packages/IPython/core/interactiveshell.py:2885: FutureWarning: \n",
      "mpl_style had been deprecated and will be removed in a future version.\n",
      "Use `matplotlib.pyplot.style.use` instead.\n",
      "\n",
      "  exec(code_obj, self.user_global_ns, self.user_ns)\n"
     ]
    }
   ],
   "source": [
    "# import numpy and pandas, and DataFrame / Series\n",
    "import numpy as np\n",
    "import pandas as pd\n",
    "from pandas import DataFrame, Series\n",
    "\n",
    "# Set some pandas options\n",
    "pd.set_option('display.notebook_repr_html', False)\n",
    "pd.set_option('display.max_columns', 10)\n",
    "pd.set_option('display.max_rows', 10)\n",
    "\n",
    "# And some items for matplotlib\n",
    "%matplotlib inline \n",
    "import matplotlib.pyplot as plt\n",
    "pd.options.display.mpl_style = 'default'"
   ]
  },
  {
   "cell_type": "code",
   "execution_count": 29,
   "metadata": {
    "collapsed": false
   },
   "outputs": [
    {
     "data": {
      "text/plain": [
       "<matplotlib.axes._subplots.AxesSubplot at 0x1047b3450>"
      ]
     },
     "execution_count": 29,
     "metadata": {},
     "output_type": "execute_result"
    },
    {
     "data": {
      "image/png": "[encoded data removed]",
      "text/plain": [
       "<matplotlib.figure.Figure at 0x104a15210>"
      ]
     },
     "metadata": {},
     "output_type": "display_data"
    }
   ],
   "source": [
    "# load, clean and plot the data\n",
    "\n",
    "# Atmospheric CO2 concentrations (ppm) derived from in situ air measurements\n",
    "# at Mauna Loa, Observatory, Hawaii: Latitude 19.5°N Longitude 155.6°W Elevation\n",
    "# 3397m\n",
    "\n",
    "# source:\n",
    "# http://scrippsco2.ucsd.edu/sites/default/files/data/in_situ_co2/monthly_mlo.csv\n",
    "\n",
    "# load the csv by skipping the first lines of documentation and the header as \n",
    "# it is multiline one and confuses the loader regarding the types of the columns\n",
    "df = pd.read_csv('monthly_mlo.csv', \n",
    "                 skiprows=57,\n",
    "                 header=None,\n",
    "                 names=['Year', 'Month', 'a', 'b', 'c', 'CO2', 'e', 'f', 'g', 'h'],\n",
    "                 parse_dates=[[0,1]])\n",
    "\n",
    "# to check column types, uncomment below \n",
    "# print df.dtypes\n",
    "\n",
    "# drop the colums we don't need. For CO2 we take the __seasonally adjusted__\n",
    "df.drop(df.columns[[1, 2, 3, 5, 6, 7, 8]], axis=1, inplace=True)\n",
    "\n",
    "# drop the missing data (CO2 values -99.99)\n",
    "df = df[df.CO2 > 0]\n",
    "\n",
    "# plot the data\n",
    "df.plot(x='Year_Month', y='CO2')"
   ]
  },
  {
   "cell_type": "code",
   "execution_count": 30,
   "metadata": {
    "collapsed": true
   },
   "outputs": [],
   "source": [
    "# define the logistic function, it will be fitted to the time series we have\n",
    "def logistic(x, A, B, C):\n",
    "    y = A / (1 + np.exp(B*x+C))\n",
    "    return y"
   ]
  },
  {
   "cell_type": "code",
   "execution_count": 45,
   "metadata": {
    "collapsed": false
   },
   "outputs": [
    {
     "name": "stdout",
     "output_type": "stream",
     "text": [
      "Int64Index([  2,   3,   4,   6,   7,   8,  10,  11,  12,  13,\n",
      "            ...\n",
      "            693, 694, 695, 696, 697, 698, 699, 700, 701, 702],\n",
      "           dtype='int64', length=696)\n",
      "2      314.42\n",
      "3      315.15\n",
      "4      314.73\n",
      "6      315.17\n",
      "7      316.16\n",
      "        ...  \n",
      "698    403.27\n",
      "699    404.73\n",
      "700    404.27\n",
      "701    404.47\n",
      "702    403.69\n",
      "Name: CO2, dtype: float64\n",
      "[ 351.84298821  -74.81228681 -144.64725662]\n"
     ]
    }
   ],
   "source": [
    "from scipy.optimize import curve_fit\n",
    "\n",
    "print df.Year_Month.index\n",
    "print df.CO2\n",
    "\n",
    "popt, pcov = curve_fit(logistic, df.CO2.index, df.CO2)\n",
    "\n",
    "print popt"
   ]
  },
  {
   "cell_type": "code",
   "execution_count": null,
   "metadata": {
    "collapsed": true
   },
   "outputs": [],
   "source": []
  }
 ],
 "metadata": {
  "kernelspec": {
   "display_name": "Python 2",
   "language": "python",
   "name": "python2"
  },
  "language_info": {
   "codemirror_mode": {
    "name": "ipython",
    "version": 2
   },
   "file_extension": ".py",
   "mimetype": "text/x-python",
   "name": "python",
   "nbconvert_exporter": "python",
   "pygments_lexer": "ipython2",
   "version": "2.7.11"
  }
 },
 "nbformat": 4,
 "nbformat_minor": 0
}
