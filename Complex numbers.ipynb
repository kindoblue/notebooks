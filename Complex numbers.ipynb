{
 "cells": [
  {
   "cell_type": "markdown",
   "metadata": {},
   "source": [
    "### Simple notebook to play with complex numbers\n",
    "\n",
    "You will usually need numpy and matplotlib, that can be imported in the interactive namespace by using\n",
    "\n",
    "`%pylab inline`\n",
    "\n",
    "Here `inline` tells to have the plots from matplotlib inlined in the notebook and not opened in a different window.\n",
    "\n",
    "On the other side, if you don't like numpy and matplotlib in the current namespace, import manually. To be verified: you might need to create the notebook with \n",
    "\n",
    "`ipython notebook --matplotlib inline`"
   ]
  },
  {
   "cell_type": "code",
   "execution_count": 10,
   "metadata": {
    "collapsed": false
   },
   "outputs": [
    {
     "name": "stdout",
     "output_type": "stream",
     "text": [
      "Populating the interactive namespace from numpy and matplotlib\n"
     ]
    }
   ],
   "source": [
    "%pylab inline"
   ]
  },
  {
   "cell_type": "markdown",
   "metadata": {},
   "source": [
    "What about $(x-1)^2=-9$? We can solve this by letting $(x-1)=3i$ which yields $x=1+3i$. The sum of a real number and an imaginary number is called _complex number_ (3i being the product of a real and i, called imaginary)\n",
    "\n",
    "Because each complex number $z$ consists of two ordinary number, z.real and z.imag, it is traditional to think $z$ as a point on plane called _complex plane_.\n",
    "\n",
    "Let's define a set of complex numbers"
   ]
  },
  {
   "cell_type": "code",
   "execution_count": 11,
   "metadata": {
    "collapsed": true
   },
   "outputs": [],
   "source": [
    "S = {2+2j, 3+2j, 1.75+1j, 2+1j, 2.25+1j, 2.5+1j, 2.75+1j, 3+1j, 3.25+1j}"
   ]
  },
  {
   "cell_type": "markdown",
   "metadata": {},
   "source": [
    "Let's define a function to plot complex numbers on a plane:"
   ]
  },
  {
   "cell_type": "code",
   "execution_count": 12,
   "metadata": {
    "collapsed": false
   },
   "outputs": [],
   "source": [
    "# xkcd style! ;-)\n",
    "# pyplot.xkcd(False)\n",
    "# and to revert: plt.rcdefaults() \n",
    "\n",
    "\n",
    "def plot_complex(L, scale=5):\n",
    "    # set the axis\n",
    "    axis([-scale, scale, -scale, scale])\n",
    "    \n",
    "    # using comprehension, a is a list of tuples\n",
    "    a = [(x.real, x.imag) for x in L]\n",
    "    \n",
    "    # unzip the list of tuples in two lists\n",
    "    x2, y2 = zip(*a)\n",
    "    \n",
    "    # plot the data as scattered points\n",
    "    plot(x2, y2, '.', markersize=3)"
   ]
  },
  {
   "cell_type": "code",
   "execution_count": 13,
   "metadata": {
    "collapsed": false
   },
   "outputs": [
    {
     "data": {
      "image/png": "[encoded data removed]",
      "text/plain": [
       "<matplotlib.figure.Figure at 0x10faa5080>"
      ]
     },
     "metadata": {},
     "output_type": "display_data"
    }
   ],
   "source": [
    "plot_complex(S)"
   ]
  },
  {
   "cell_type": "code",
   "execution_count": 14,
   "metadata": {
    "collapsed": false
   },
   "outputs": [
    {
     "data": {
      "image/png": "[encoded data removed]",
      "text/plain": [
       "<matplotlib.figure.Figure at 0x10fad70f0>"
      ]
     },
     "metadata": {},
     "output_type": "display_data"
    }
   ],
   "source": [
    "plot_complex([1+2j+z for z in S])"
   ]
  },
  {
   "cell_type": "code",
   "execution_count": 15,
   "metadata": {
    "collapsed": false
   },
   "outputs": [
    {
     "data": {
      "image/png": "[encoded data removed]",
      "text/plain": [
       "<matplotlib.figure.Figure at 0x10fb6b6a0>"
      ]
     },
     "metadata": {},
     "output_type": "display_data"
    }
   ],
   "source": [
    "# multiplying for -1, 180 rotation\n",
    "plot_complex([-z for z in S])"
   ]
  },
  {
   "cell_type": "code",
   "execution_count": 16,
   "metadata": {
    "collapsed": false
   },
   "outputs": [
    {
     "data": {
      "image/png": "[encoded data removed]",
      "text/plain": [
       "<matplotlib.figure.Figure at 0x10fcce710>"
      ]
     },
     "metadata": {},
     "output_type": "display_data"
    }
   ],
   "source": [
    "# multiplying for i, 90 rotation\n",
    "plot_complex([1j*z for z in S])"
   ]
  },
  {
   "cell_type": "code",
   "execution_count": 17,
   "metadata": {
    "collapsed": true
   },
   "outputs": [],
   "source": [
    "# import the image module\n",
    "import image\n",
    "\n",
    "# load the image\n",
    "img = image.file2image('img01.png')"
   ]
  },
  {
   "cell_type": "code",
   "execution_count": 18,
   "metadata": {
    "collapsed": false
   },
   "outputs": [
    {
     "data": {
      "text/plain": [
       "(179, 179, 179)"
      ]
     },
     "execution_count": 18,
     "metadata": {},
     "output_type": "execute_result"
    }
   ],
   "source": [
    "# img[y][x] is a triple RGB (all equals, is gray image)\n",
    "img[5][3]"
   ]
  },
  {
   "cell_type": "code",
   "execution_count": 19,
   "metadata": {
    "collapsed": false
   },
   "outputs": [],
   "source": [
    "# create a complex number for every pixel darker than 120\n",
    "# mind that the image is upside down, so [187-y] will put the image upright\n",
    "ff = [x+1j*y for y in range(188) for x in range(166) if img[187-y][x][0]<120]"
   ]
  },
  {
   "cell_type": "code",
   "execution_count": 20,
   "metadata": {
    "collapsed": false
   },
   "outputs": [
    {
     "data": {
      "image/png": "[encoded data removed]",
      "text/plain": [
       "<matplotlib.figure.Figure at 0x10fa848d0>"
      ]
     },
     "metadata": {},
     "output_type": "display_data"
    }
   ],
   "source": [
    "plot_complex(ff,200)"
   ]
  },
  {
   "cell_type": "markdown",
   "metadata": {},
   "source": [
    "#### Rotation\n",
    "A complex number $z=a+ib$ has defined an \"argument\", which is the counterclockwise angle $\\varphi$ from the positive real axis"
   ]
  },
  {
   "cell_type": "code",
   "execution_count": 29,
   "metadata": {
    "collapsed": false
   },
   "outputs": [
    {
     "data": {
      "image/png": "[encoded data removed]",
      "text/plain": [
       "<IPython.core.display.Image object>"
      ]
     },
     "execution_count": 29,
     "metadata": {},
     "output_type": "execute_result"
    }
   ],
   "source": [
    "from IPython.display import Image\n",
    "Image(filename='arg.png') "
   ]
  },
  {
   "cell_type": "markdown",
   "metadata": {},
   "source": [
    "You can write $z=a+ib$ as $z=r(\\cos\\varphi + i\\sin\\varphi) = re^{i\\varphi}$ by the Euler's formula, giving us the polar notation. \n",
    "\n",
    "You can rotate $z$ of an angle $\\theta$ by considering $z_\\theta=re^{i(\\varphi+\\theta)}=re^{i\\varphi}e^{i\\theta}=ze^{i\\theta}$ "
   ]
  },
  {
   "cell_type": "code",
   "execution_count": 28,
   "metadata": {
    "collapsed": false
   },
   "outputs": [
    {
     "data": {
      "image/png": "[encoded data removed]",
      "text/plain": [
       "<matplotlib.figure.Figure at 0x110065828>"
      ]
     },
     "metadata": {},
     "output_type": "display_data"
    }
   ],
   "source": [
    "# theta is the angle we want rotate the picture\n",
    "theta = pi/4;\n",
    "\n",
    "# calculate e^theta*j, for rotation of theta radians\n",
    "rot = exp(theta*1j)\n",
    "\n",
    "plot_complex([x*rot for x in ff], 200)"
   ]
  },
  {
   "cell_type": "code",
   "execution_count": null,
   "metadata": {
    "collapsed": true
   },
   "outputs": [],
   "source": []
  }
 ],
 "metadata": {
  "kernelspec": {
   "display_name": "Python 2",
   "language": "python",
   "name": "python2"
  },
  "language_info": {
   "codemirror_mode": {
    "name": "ipython",
    "version": 2
   },
   "file_extension": ".py",
   "mimetype": "text/x-python",
   "name": "python",
   "nbconvert_exporter": "python",
   "pygments_lexer": "ipython2",
   "version": "2.7.11"
  }
 },
 "nbformat": 4,
 "nbformat_minor": 0
}
